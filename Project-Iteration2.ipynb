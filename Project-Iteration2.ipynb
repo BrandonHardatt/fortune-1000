{
 "cells": [
  {
   "cell_type": "markdown",
   "id": "4302b341",
   "metadata": {},
   "source": [
    "# Analysis of Fortune's Top Companies of 2021\n",
    "\n",
    "### Dataset - Fortune 1000\n",
    "\n",
    "Every year Fortune, an American Business Magazine, publishes the Fortune 500, which ranks the top 500 corporations by revenue. \n",
    "However, the dataset used for this study includes all 1000 companies, as opposed to just the top 500.\n",
    "\n",
    "The Fortune 1000 dataset used for this study has been taken from [here](https://www.kaggle.com/datasets/winston56/fortune-500-data-2021), and contains U.S. company data for the year 2021, with market valuations determined on January 20,2021.\n",
    "The dataset has 1000 rows and 18 columns/attributes, namely:\n",
    "\n",
    "|Attribute|Description|Note|Data Type|\n",
    "|---------|-----------|----|-----|\n",
    "|Company            | The name of the company| |object|\n",
    "|Rank               | The ranking given to the company by Fortune in 2021| Values range from 1 (most revenue) to 1000 (least revenue)|object|\n",
    "|Rank Change        | The change in the company's ranking from 2020 to 2021| Company can only have a change in rank if it is currently in the top 500 and was in the top 500 the year before|int64|\n",
    "|Revenue            | Dollar value for revenue of the company in millions| Companies are ranked through this attribute|float64|\n",
    "|Profit             | Dollar value for profit of the company in millions| |float64|\n",
    "|Number of Employees| Number of people the company has employed| |int64|\n",
    "|Sector             | The sector of the market the company operates in| |object|\n",
    "|City               | The city where the company has its headquarters | All the companies are in the United Stated |object|\n",
    "|State              | The state where the company has its headquarters | All the companies are in the United Stated |object|\n",
    "|Newcomer           | Indicates whether the company is new to the top Fortune 500|  No value assigned to companies outside of the top 500|object (yes/no)|\n",
    "|CEO Founder        | Indicates whether the current CEO of the company is also its founder| |object (yes/no)|\n",
    "|CEO Woman          | Indicates whether the CEO of the company is a woman | | object (yes/no)|\n",
    "|Profitable         | Indicates whether the company has profited over the last year or not| |object (yes/no)|\n",
    "|Previous Rank      | The ranking given to the company by Fortune in 2020| No value assigned to companies outside of the top 500|float64|\n",
    "|CEO                | The name of the CEO of the company| |object|\n",
    "|Website            | The url to the company's website| |object|\n",
    "|Ticker             | The stock ticker symbol of the company| Values assigned only for public companies, value is null if the company is privately-owned|object|\n",
    "|Market Cap         | The total dollar market value of the company's outstanding shares of stock in millions| Values null in the case of some private companies|float64|\n",
    "\n",
    "With this dataset, the aim is to provide the viewer with some general details about top U.S. *corporations*, like the *sector in which it operates*, *headquarter locations*, *CEO information*, *company website*, *stock market ticker*, and explore the statistics, like their *revenue*, *yearly profit*, *employee count* and *market cap*, while using data pulled exclusively from Fortune, like the *ranking* for individual corporations. These features help in providing answers to questions like,\n",
    "- *Which companies constitute the top 10% of the world's biggest companies?*\n",
    "- *Does profitability play a role in ranking?*\n",
    "- *Which sector is most popular in the market?*\n",
    "- *Are there places (hotspots) where many companies fix their base of operations at?*\n",
    "- *What percentage of companies have CEOs who were also founders?*\n",
    "- *What proportion of companies have women CEOs?*\n",
    "- *What proportion of companies are privately-owned?*\n",
    "\n",
    "In addition to this, key factors regarding the spread and centrality shall be discussed, followed by a systematic approach to clean the dataset by resolving inconsistencies, removing missing values and replacing outliers.\n",
    "\n",
    "\n"
   ]
  },
  {
   "cell_type": "markdown",
   "id": "0e52af41",
   "metadata": {},
   "source": [
    "## Data Cleaning \n",
    "1. Importing Pandas and Matplotlib\n",
    "2. Loading the data \n",
    "3. Rearrange the data\n",
    "4. Drop irrelevant attributes\n",
    "5. Detect and remove rows with missing data\n",
    "6. Detect outliers"
   ]
  },
  {
   "cell_type": "markdown",
   "id": "74363300",
   "metadata": {},
   "source": [
    "### Importing Pandas and Matplotlib\n",
    "- When using Jupyter Notebook with a dark editor the axes, tick, text etc. are difficult with a black theme to see since they are black by default so I will change them to gray\n",
    "- Adjust font size\n",
    "- Import Pandas and Matplotlib"
   ]
  },
  {
   "cell_type": "code",
   "execution_count": null,
   "id": "f3a62f1b",
   "metadata": {},
   "outputs": [],
   "source": [
    "import matplotlib as mpl\n",
    "\n",
    "font = {'family' : 'Georgia',\n",
    "        'weight' : 'bold',\n",
    "        'size'   : 12}\n",
    "\n",
    "COLOR = 'gray'\n",
    "mpl.rcParams['text.color'] = COLOR\n",
    "mpl.rcParams['axes.labelcolor'] = COLOR\n",
    "mpl.rcParams['xtick.color'] = COLOR\n",
    "mpl.rcParams['ytick.color'] = COLOR\n",
    "\n",
    "mpl.rc('font', **font)\n",
    "\n",
    "import matplotlib.pyplot as plt\n",
    "import pandas as pd\n",
    "pd.options.display.float_format = '{:.2f}'.format # Suppress scientific notation for all floats "
   ]
  },
  {
   "cell_type": "markdown",
   "id": "93a0cabc",
   "metadata": {},
   "source": [
    "### Retrieving the dataset and sorting by rank"
   ]
  },
  {
   "cell_type": "code",
   "execution_count": null,
   "id": "9c35d91c",
   "metadata": {},
   "outputs": [],
   "source": [
    "df = pd.read_csv(\"Fortune_1000.csv\", index_col=['rank']).sort_index()\n",
    "df.head(10)"
   ]
  },
  {
   "cell_type": "markdown",
   "id": "0862652b",
   "metadata": {},
   "source": [
    "### Rearranging the data\n",
    "\n",
    "The columns that we plan to work with frequently have been moved to the left."
   ]
  },
  {
   "cell_type": "code",
   "execution_count": null,
   "id": "d277c9d1",
   "metadata": {},
   "outputs": [],
   "source": [
    "df = df[['company', 'revenue', 'profit', 'Market Cap', 'num. of employees', 'sector', 'city', 'state', 'CEO', 'prev_rank', 'rank_change', 'newcomer', 'ceo_founder', 'ceo_woman', 'profitable', 'Ticker', 'Website']]\n",
    "df.head()"
   ]
  },
  {
   "cell_type": "markdown",
   "id": "ffcb2ad8",
   "metadata": {},
   "source": [
    "<br>Some information pertaining to the dataset and its attributes,<br>"
   ]
  },
  {
   "cell_type": "code",
   "execution_count": null,
   "id": "312c675f",
   "metadata": {},
   "outputs": [],
   "source": [
    "df.info()"
   ]
  },
  {
   "cell_type": "markdown",
   "id": "bb28c364",
   "metadata": {},
   "source": [
    "<br>Some attributes like Market Cap and prev_rank have object as their dtype instead of int64 and float64, due to presence of null values or spaces (instead of leaving the field blank).\n",
    "This can be resolved easily,<br>"
   ]
  },
  {
   "cell_type": "code",
   "execution_count": null,
   "id": "ed733a90",
   "metadata": {},
   "outputs": [],
   "source": [
    "df[['Market Cap', 'prev_rank']] = df[['Market Cap', 'prev_rank']].apply(pd.to_numeric, errors='coerce')\n",
    "df.info()"
   ]
  },
  {
   "cell_type": "markdown",
   "id": "4164df7e",
   "metadata": {},
   "source": [
    "### Removing Attributes\n",
    "\n",
    "Moreover, some attributes are not needed for this study since they have too many values missing by virtue of their definition or are not relevant, and can be dropped including:\n",
    "- website \n",
    "- prev_rank\n",
    "- rank_change \n",
    "- newcomer "
   ]
  },
  {
   "cell_type": "code",
   "execution_count": null,
   "id": "4e80ca66",
   "metadata": {},
   "outputs": [],
   "source": [
    "df = df.drop(columns=['prev_rank', 'rank_change', 'newcomer', 'Website'])\n",
    "df.info()"
   ]
  },
  {
   "cell_type": "markdown",
   "id": "d3a5c592",
   "metadata": {},
   "source": [
    "### Detect and remove rows with missing data"
   ]
  },
  {
   "cell_type": "code",
   "execution_count": null,
   "id": "4bc8c3fb",
   "metadata": {},
   "outputs": [],
   "source": [
    "df.isna().sum()"
   ]
  },
  {
   "cell_type": "code",
   "execution_count": null,
   "id": "027ed92a",
   "metadata": {},
   "outputs": [],
   "source": [
    "df = df.dropna()\n",
    "df.isna().sum()"
   ]
  },
  {
   "cell_type": "markdown",
   "id": "f3712b5f",
   "metadata": {},
   "source": [
    "### Detect and remove outliers\n",
    "- The method chosen to remove outliers will depend on the density or distribution of each column. To get a sense of the distribution I will:\n",
    "    - Display some basic statistical info about the columns\n",
    "    - Plot the density or distribution of the numeric columns\n",
    "    - Plot box plot to see your distribution and potential outliers. (Optional)"
   ]
  },
  {
   "cell_type": "markdown",
   "id": "3b7a8e5a",
   "metadata": {},
   "source": [
    "### Descriptive statistics"
   ]
  },
  {
   "cell_type": "markdown",
   "id": "a36d2850",
   "metadata": {},
   "source": [
    "Attributes like revenue, profit and num. of employees play a key role in differentiating a company's ranking in terms of valuation and popularity. Some measures of spread/central tendency for these key features are listed below,"
   ]
  },
  {
   "cell_type": "code",
   "execution_count": null,
   "id": "dc1c9e6c",
   "metadata": {},
   "outputs": [],
   "source": [
    "\n",
    "categorical_attributes = ['sector','city','state','newcomer','ceo_founder','ceo_woman','profitable']\n",
    "numerical_attributes = [\"revenue\",\"profit\",\"Market Cap\",\"num. of employees\"]\n",
    "# target_attribute = [\"output\"]\n",
    "stats = ['mean', 'median', 'std', 'var']\n",
    "agg_dict = {'revenue': stats, 'profit': stats, 'Market Cap': stats, 'num. of employees': stats}\n",
    "desc_stats = df.agg(agg_dict).round(3)\n",
    "desc_stats\n"
   ]
  },
  {
   "cell_type": "code",
   "execution_count": null,
   "id": "0c113ce4",
   "metadata": {},
   "outputs": [],
   "source": [
    "df.describe()"
   ]
  },
  {
   "cell_type": "markdown",
   "id": "333ad182",
   "metadata": {},
   "source": [
    "From this summary, the standard deviations look huge, so this would mean the data must be skewed and greatly spread apart, with a larger number of outliers. Below are the histograms for the above attributes,"
   ]
  },
  {
   "cell_type": "code",
   "execution_count": null,
   "id": "e66d896b",
   "metadata": {},
   "outputs": [],
   "source": [
    "def plot_histograms_density(df, columns):\n",
    "    temp = df.copy()\n",
    "    fig, axs = plt.subplots(len(columns), 1, figsize = (20,20))\n",
    "    fig.tight_layout(pad=5.0)\n",
    "    i = 0\n",
    "    for c in columns:\n",
    "        temp[c].hist(ax = axs[i], bins=100) # normalizes the density\n",
    "        temp[c].plot.density(ax = axs[i], title = c)\n",
    "        i += 1\n",
    "\n",
    "plot_histograms_density(df, numerical_attributes)"
   ]
  },
  {
   "cell_type": "markdown",
   "id": "f3ea9d2b",
   "metadata": {},
   "source": [
    "Plotting the distribution shows that most numerical data is positively skewed so IQR will be used to handle outliers "
   ]
  },
  {
   "cell_type": "markdown",
   "id": "e786ebc2",
   "metadata": {},
   "source": [
    "### Detecting the outliers \n",
    "- The *lower limit* for each numerical column is $Q1 - 1.5 * IQR$ \n",
    "- The *upper limit* for each numerical column is $Q3 + 1.5 * IQR$ \n",
    "- Values less than the *lower limit* will be set to *lower limit*\n",
    "- Values less than the *upper limit* will be set to *lower limit*\n",
    "- Essentially each column is capped to [*lower limit*, *upper limit*]"
   ]
  },
  {
   "cell_type": "code",
   "execution_count": null,
   "id": "be36a108",
   "metadata": {},
   "outputs": [],
   "source": [
    "def show_outliers_iqr(df, columns, verbose):\n",
    "    temp = df.copy()\n",
    "    total_outliers = 0\n",
    "    total_data = 0\n",
    "    for col in columns:\n",
    "        Q1 = temp[col].quantile(0.25)\n",
    "        Q3 = temp[col].quantile(0.75)\n",
    "        IQR = Q3 - Q1\n",
    "        lower_limit = Q1 - 1.5 * IQR\n",
    "        upper_limit = Q3 + 1.5 * IQR\n",
    "    \n",
    "        column_outliers = len(temp[temp[col] > upper_limit]) + len(temp[temp[col] < lower_limit]) # Outliers in this column\n",
    "        total_outliers += column_outliers # Add the total outliers in this column to the running total of outliers\n",
    "        total_data += temp[col].shape[0]    # Total rows in this column\n",
    "        if (verbose):\n",
    "            print(f\"Column: {col}\")\n",
    "            print(f\"The minimum and maximum extremes are: [{round(lower_limit, 2)}, {round(upper_limit, 2)}]\")\n",
    "            print(f\"Outliers: {column_outliers}\")\n",
    "            print(f\"Outliers in this column: {round(column_outliers/temp[col].shape[0], 2)} % \\n\")\n",
    "    print(f\"Total outliers for dataframe: {round(total_outliers / total_data * 100, 2)} %\")\n",
    "\n",
    "show_outliers_iqr(df, numerical_attributes, True) # Verbose can be set to false to stop seeing outlier data for each column\n",
    "\n",
    " "
   ]
  },
  {
   "cell_type": "markdown",
   "id": "04aa4a7a",
   "metadata": {},
   "source": [
    "## Charts"
   ]
  },
  {
   "cell_type": "markdown",
   "id": "15b48005",
   "metadata": {},
   "source": [
    "Some additional charts have been plotted for better understanding of the data and for providing hints to questions put forth at the beginning,"
   ]
  },
  {
   "cell_type": "code",
   "execution_count": null,
   "id": "c1ea83eb",
   "metadata": {},
   "outputs": [],
   "source": [
    "fig, axs = plt.subplots(2, 2)\n",
    "axs = axs.flatten()\n",
    "\n",
    "df['sector'].value_counts(normalize=True).plot.pie(ax=axs[0], \n",
    "                                                   figsize=(12,10), autopct='%.1f %%', \n",
    "                                                   colormap='tab20', labels=None, title='Proportions of sectors companies work in ↓',\n",
    "                                                   legend=True, ylabel='', fontsize=8, \n",
    "                                                   radius=1.2).legend(labels=df['sector'], bbox_to_anchor=(-0.6,1.1), loc='upper left')\n",
    "df['profitable'].value_counts(normalize=True).plot.pie(ax=axs[1], \n",
    "                                                       figsize=(12,10), radius=1.1, \n",
    "                                                       autopct='%.1f %%', colormap='tab10',\n",
    "                                                       title='Proportion of profitable companies ↓', \n",
    "                                                       legend=True, ylabel='', fontsize=12)\n",
    "df['ceo_founder'].value_counts(normalize=True).plot.pie(ax=axs[2], \n",
    "                                                       figsize=(12,10), radius=1.1, \n",
    "                                                       autopct='%.1f %%', colormap='tab10',\n",
    "                                                       title='Proportion of CEOs who are also founders ↓', \n",
    "                                                       legend=True, ylabel='', fontsize=12)\n",
    "df['ceo_woman'].value_counts(normalize=True).plot.pie(ax=axs[3], \n",
    "                                                       figsize=(12,10), radius=1.1, \n",
    "                                                       autopct='%.1f %%', colormap='tab10',\n",
    "                                                       title='Proportion of women CEOs ↓', \n",
    "                                                       legend=True, ylabel='', fontsize=12)\n",
    "\n",
    "plt.show()"
   ]
  },
  {
   "cell_type": "markdown",
   "id": "c267b6cf",
   "metadata": {},
   "source": [
    "From these charts, it can be seen that a greater portion of companies are invested into Retail, Energy, Technology and Healthcare sectors. But most companies remain profitable, whatever sector of the market they may be operating in. \n",
    "\n",
    "Also, the there only a few amount of companies having CEOs that are women or founded the company themselves; this may point to possible bias in hiring/selecting CEOs, or simply a shortage of women candidates applying for CEO positions, while the fact that there aren't many CEOs who are founders too is not surprising, as most big corporations have been around for awhile, and can potentially see many CEO successors. "
   ]
  },
  {
   "cell_type": "markdown",
   "id": "06e7484d",
   "metadata": {},
   "source": [
    "<br>Plotted below is the horizontal histogram for the frequency of company headquarters per state in the U.S.,"
   ]
  },
  {
   "cell_type": "code",
   "execution_count": null,
   "id": "9cd4ca27",
   "metadata": {},
   "outputs": [],
   "source": [
    "# making a plot showing the frequency of companies headquartered in each U.S. state\n",
    "\n",
    "def barPlot(series, x_lab, y_lab, title):\n",
    "    series.value_counts().plot.barh(\n",
    "                                figsize=(20, 10), \n",
    "                                width=1, \n",
    "                                edgecolor='black', \n",
    "                                xlabel=x_lab,\n",
    "                                ylabel=y_lab, \n",
    "                                title=title, \n",
    "                                fontsize=12,\n",
    "                                )\n",
    "    \n",
    "barPlot(df['state'], 'Number of Companies', 'Headquarters', 'Headquarter Frequency per U.S. State')"
   ]
  },
  {
   "cell_type": "markdown",
   "id": "89f67a2d",
   "metadata": {},
   "source": [
    "As the plot demonstrates, some hotspots for companies include California, Texas and New York."
   ]
  }
 ],
 "metadata": {
  "kernelspec": {
   "display_name": "Python 3 (ipykernel)",
   "language": "python",
   "name": "python3"
  },
  "language_info": {
   "codemirror_mode": {
    "name": "ipython",
    "version": 3
   },
   "file_extension": ".py",
   "mimetype": "text/x-python",
   "name": "python",
   "nbconvert_exporter": "python",
   "pygments_lexer": "ipython3",
   "version": "3.10.2"
  },
  "vscode": {
   "interpreter": {
    "hash": "18dcc80aa433cb83a13997becbcff28072751216fe51a09d4d54373aac20bda1"
   }
  }
 },
 "nbformat": 4,
 "nbformat_minor": 5
}
